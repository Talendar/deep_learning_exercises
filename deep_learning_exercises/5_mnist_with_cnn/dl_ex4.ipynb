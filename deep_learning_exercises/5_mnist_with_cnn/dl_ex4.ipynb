{
  "nbformat": 4,
  "nbformat_minor": 0,
  "metadata": {
    "colab": {
      "name": "dl_ex4.ipynb",
      "provenance": [],
      "authorship_tag": "ABX9TyNgURj4GAPAYWt5V7YFdZ0H",
      "include_colab_link": true
    },
    "kernelspec": {
      "name": "python3",
      "display_name": "Python 3"
    },
    "accelerator": "GPU"
  },
  "cells": [
    {
      "cell_type": "markdown",
      "metadata": {
        "id": "view-in-github",
        "colab_type": "text"
      },
      "source": [
        "<a href=\"https://colab.research.google.com/github/Talendar/deep_learning_exercises/blob/master/deep_learning_exercises/5_mnist_with_cnn/dl_ex4.ipynb\" target=\"_parent\"><img src=\"https://colab.research.google.com/assets/colab-badge.svg\" alt=\"Open In Colab\"/></a>"
      ]
    },
    {
      "cell_type": "code",
      "metadata": {
        "id": "wsJEyeeH8Hqh"
      },
      "source": [
        "import tensorflow as tf\n",
        "from keras.callbacks import Callback\n",
        "\n",
        "import numpy as np\n",
        "import matplotlib.pyplot as plt\n",
        "\n",
        "from IPython.display import clear_output\n",
        "class ClearCallback(Callback):\n",
        "    \"\"\" Handles the cleaning of the log during the training of a model. \"\"\"\n",
        "\n",
        "    def on_epoch_end(self, epoch, logs=None):\n",
        "        \"\"\" Clears the log. Called when a training epoch ends. \"\"\"\n",
        "        clear_output(wait=True)"
      ],
      "execution_count": 1,
      "outputs": []
    },
    {
      "cell_type": "markdown",
      "metadata": {
        "id": "KG48teg7_RFk"
      },
      "source": [
        "# Preparing data\n",
        "\n",
        "Loading data:"
      ]
    },
    {
      "cell_type": "code",
      "metadata": {
        "id": "6RtcP6PD_XHr",
        "outputId": "e04ab3fa-4597-452f-f418-58beabd618d0",
        "colab": {
          "base_uri": "https://localhost:8080/"
        }
      },
      "source": [
        "(training_data, training_labels), (test_data, test_labels) = tf.keras.datasets.mnist.load_data()\n",
        "\n",
        "print(\"\\nTraining data: {}  |  Training labels: {}\".format(training_data.shape, training_labels.shape))\n",
        "print(\"    Test data: {}  |  Test labels: {}\".format(test_data.shape, test_labels.shape))"
      ],
      "execution_count": 162,
      "outputs": [
        {
          "output_type": "stream",
          "text": [
            "\n",
            "Training data: (60000, 28, 28)  |  Training labels: (60000,)\n",
            "    Test data: (10000, 28, 28)  |  Test labels: (10000,)\n"
          ],
          "name": "stdout"
        }
      ]
    },
    {
      "cell_type": "markdown",
      "metadata": {
        "id": "Zdum71u1ErNc"
      },
      "source": [
        "Normalizing data:"
      ]
    },
    {
      "cell_type": "code",
      "metadata": {
        "id": "I0vHjt7OEqbk"
      },
      "source": [
        "training_data = training_data / 255\n",
        "test_data = test_data / 255"
      ],
      "execution_count": 163,
      "outputs": []
    },
    {
      "cell_type": "markdown",
      "metadata": {
        "id": "oiz_RdPzBDzW"
      },
      "source": [
        "Exploring data:"
      ]
    },
    {
      "cell_type": "code",
      "metadata": {
        "id": "5dFVSvYhBGTM",
        "outputId": "6b051683-de5f-43cf-bce0-fe3d421fa150",
        "colab": {
          "base_uri": "https://localhost:8080/",
          "height": 351
        }
      },
      "source": [
        "rand_idx = np.random.randint(0, len(training_data) - 4)\n",
        "\n",
        "plt.figure(figsize=(20,6))\n",
        "for i in range(16):\n",
        "    plt.subplot(2,8,i+1)\n",
        "    plt.xticks([])\n",
        "    plt.yticks([])\n",
        "    plt.imshow(training_data[rand_idx + i], cmap=plt.cm.binary)\n",
        "    plt.xlabel(training_labels[rand_idx + i], fontsize=20).set_color(\"white\")\n",
        "plt.show()"
      ],
      "execution_count": 164,
      "outputs": [
        {
          "output_type": "display_data",
          "data": {
            "image/png": "[encoded data removed]",
            "text/plain": [
              "<Figure size 1440x432 with 16 Axes>"
            ]
          },
          "metadata": {
            "tags": []
          }
        }
      ]
    },
    {
      "cell_type": "markdown",
      "metadata": {
        "id": "wphAANPUKtYx"
      },
      "source": [
        "# MLP model\n",
        "\n",
        "Building a multi-layer perceptron (MLP) and fitting it to the data. A MLP is the standard feedforward neural network, consisting only of fully-connected (dense) layers."
      ]
    },
    {
      "cell_type": "code",
      "metadata": {
        "id": "X4q90fzILIzE",
        "outputId": "cff1795f-61bc-4e04-a2a2-a12b2187f1c1",
        "colab": {
          "base_uri": "https://localhost:8080/"
        }
      },
      "source": [
        "mlp_model = tf.keras.Sequential([\n",
        "    tf.keras.layers.Flatten(input_shape=(28, 28)),\n",
        "    tf.keras.layers.Dense(32, activation='relu'),\n",
        "    tf.keras.layers.Dense(32, activation='relu'),\n",
        "    tf.keras.layers.Dense(10, activation=\"softmax\")\n",
        "])\n",
        "\n",
        "mlp_model.compile(loss=tf.keras.losses.SparseCategoricalCrossentropy(from_logits=True),\n",
        "              optimizer=tf.keras.optimizers.Adam(1e-3),\n",
        "              metrics=[\"accuracy\"])\n",
        "\n",
        "mlp_model.fit(training_data, training_labels, \n",
        "          epochs=5, \n",
        "          callbacks=[ClearCallback()])\n",
        "\n",
        "test_loss, test_acc = mlp_model.evaluate(test_data,  test_labels, verbose=2)\n",
        "print('\\nTest accuracy: %.2f%%\\n\\n' % (test_acc * 100))"
      ],
      "execution_count": 21,
      "outputs": [
        {
          "output_type": "stream",
          "text": [
            "\b\b\b\b\b\b\b\b\b\b\b\b\b\b\b\b\b\b\b\b\b\b\b\b\b\b\b\b\b\b\b\b\b\b\b\b\b\b\b\b\b\b\b\b\b\b\b\b\b\b\b\b\b\b\b\b\b\b\b\b\b\b\b\b\b\b\b\b\b\b\b\b\b\b\b\b\b\b\b\b\b\b\b\b\b\b\r1875/1875 [==============================] - 3s 2ms/step - loss: 1.5067 - accuracy: 0.9561\n",
            "313/313 - 1s - loss: 1.5132 - accuracy: 0.9493\n",
            "\n",
            "Test accuracy: 94.93%\n"
          ],
          "name": "stdout"
        }
      ]
    },
    {
      "cell_type": "markdown",
      "metadata": {
        "id": "TmFNo2yCloSk"
      },
      "source": [
        "Auxiliary functions"
      ]
    },
    {
      "cell_type": "code",
      "metadata": {
        "id": "sNYFVYCnlnaL"
      },
      "source": [
        "def plot_image(i, predictions_array, true_label, img):\n",
        "  true_label, img = true_label[i], img[i]\n",
        "  plt.grid(False)\n",
        "  plt.xticks([])\n",
        "  plt.yticks([])\n",
        "  plt.imshow(img, cmap=plt.cm.binary)\n",
        "\n",
        "  predicted_label = np.argmax(predictions_array)\n",
        "  color = \"green\" if predicted_label == true_label else \"red\"\n",
        "\n",
        "  plt.xlabel(\"{} ({:2.0f}%)  |  {}\\n\".format(predicted_label, \n",
        "                                         100*np.max(predictions_array), true_label),\n",
        "                                color=color, fontweight='bold', fontsize=13)\n",
        "\n",
        "\n",
        "def plot_value_array(i, predictions_array, true_label):\n",
        "  true_label = true_label[i]\n",
        "  plt.grid(False)\n",
        "  plt.xticks(range(10))\n",
        "  plt.yticks([])\n",
        "  thisplot = plt.bar(range(10), predictions_array, color=\"#777777\")\n",
        "  plt.ylim([0, 1])\n",
        "  predicted_label = np.argmax(predictions_array)\n",
        "\n",
        "  thisplot[predicted_label].set_color('red')\n",
        "  thisplot[true_label].set_color('green')\n",
        "\n",
        "\n",
        "def show_predictions(predictions, num_images=7, figsize=(16, 5)):\n",
        "    b = np.random.randint(0, len(predictions) - num_images)\n",
        "    plt.figure(figsize=figsize)\n",
        "    for i in range(num_images):\n",
        "        plt.subplot(2, num_images, i+1)\n",
        "        plot_image(b+i, predictions[b + i], test_labels, test_data)\n",
        "        plt.subplot(2, num_images, i+1+num_images)\n",
        "        plot_value_array(b+i, predictions[b + i], test_labels)\n",
        "    plt.tight_layout()\n",
        "    plt.show()"
      ],
      "execution_count": 104,
      "outputs": []
    },
    {
      "cell_type": "markdown",
      "metadata": {
        "id": "_GrEJY8_lh13"
      },
      "source": [
        "Visualizing the predictions made by the MLP"
      ]
    },
    {
      "cell_type": "code",
      "metadata": {
        "id": "64zm-IxxlrfE",
        "outputId": "6f78653a-11f4-4e7a-99a1-f4aee137e48c",
        "colab": {
          "base_uri": "https://localhost:8080/",
          "height": 369
        }
      },
      "source": [
        "show_predictions(mlp_model.predict(test_data))"
      ],
      "execution_count": 110,
      "outputs": [
        {
          "output_type": "display_data",
          "data": {
            "image/png": "[encoded data removed]",
            "text/plain": [
              "<Figure size 1152x360 with 14 Axes>"
            ]
          },
          "metadata": {
            "tags": [],
            "needs_background": "light"
          }
        }
      ]
    },
    {
      "cell_type": "markdown",
      "metadata": {
        "id": "Ay1sfVuLkDao"
      },
      "source": [
        "#CNN model"
      ]
    },
    {
      "cell_type": "markdown",
      "metadata": {
        "id": "qov6gsLdyADO"
      },
      "source": [
        "Reshaping images (we need a new dimension for the image's channel!):"
      ]
    },
    {
      "cell_type": "code",
      "metadata": {
        "id": "DoBN3mn3x-VK",
        "outputId": "56611ac9-872f-4bae-bc7e-ba9f0cff8eda",
        "colab": {
          "base_uri": "https://localhost:8080/"
        }
      },
      "source": [
        "cnn_training_data = training_data.reshape(len(training_data), 28, 28, 1)\n",
        "cnn_test_data = test_data.reshape(len(test_data), 28, 28, 1)\n",
        "\n",
        "print(\"Training data shape: {}\".format(cnn_training_data.shape))\n",
        "print(\"    Test data shape: {}\".format(cnn_test_data.shape))"
      ],
      "execution_count": 165,
      "outputs": [
        {
          "output_type": "stream",
          "text": [
            "Training data shape: (60000, 28, 28, 1)\n",
            "    Test data shape: (10000, 28, 28, 1)\n"
          ],
          "name": "stdout"
        }
      ]
    },
    {
      "cell_type": "markdown",
      "metadata": {
        "id": "pjzo2kLnzO_Q"
      },
      "source": [
        "Building a CNN model and fitting it to the data:"
      ]
    },
    {
      "cell_type": "code",
      "metadata": {
        "id": "vTuDbI5kkB6T",
        "outputId": "66ae1fbe-b881-4324-b6db-ae1f4d98f4ad",
        "colab": {
          "base_uri": "https://localhost:8080/"
        }
      },
      "source": [
        "cnn_model = tf.keras.Sequential([\n",
        "    tf.keras.layers.Conv2D(filters=64, kernel_size=(3, 3), strides=(1, 1), padding=\"same\", activation='relu', input_shape=(28, 28, 1)),\n",
        "    tf.keras.layers.MaxPooling2D((2, 2)),\n",
        "    tf.keras.layers.Conv2D(filters=64, kernel_size=(3, 3), strides=(1, 1), padding=\"valid\", activation='relu'),\n",
        "    tf.keras.layers.MaxPooling2D((2, 2)),\n",
        "    tf.keras.layers.Conv2D(filters=64, kernel_size=(3, 3), strides=(1, 1), padding=\"valid\", activation='relu'),\n",
        "    tf.keras.layers.Flatten(),\n",
        "    tf.keras.layers.Dense(64, activation='relu'),\n",
        "    tf.keras.layers.Dense(10, activation=\"softmax\")\n",
        "])\n",
        "\n",
        "cnn_model.compile(loss=tf.keras.losses.SparseCategoricalCrossentropy(from_logits=True),\n",
        "              optimizer=\"adam\",\n",
        "              metrics=[\"accuracy\"])\n",
        "\n",
        "cnn_model.fit(cnn_training_data, training_labels, \n",
        "          epochs=10, \n",
        "          callbacks=[ClearCallback()])\n",
        "\n",
        "test_loss, test_acc = cnn_model.evaluate(cnn_test_data,  test_labels, verbose=2)\n",
        "print('\\nTest accuracy: %.2f%%' % (test_acc * 100))"
      ],
      "execution_count": 185,
      "outputs": [
        {
          "output_type": "stream",
          "text": [
            "\b\b\b\b\b\b\b\b\b\b\b\b\b\b\b\b\b\b\b\b\b\b\b\b\b\b\b\b\b\b\b\b\b\b\b\b\b\b\b\b\b\b\b\b\b\b\b\b\b\b\b\b\b\b\b\b\b\b\b\b\b\b\b\b\b\b\b\b\b\b\b\b\b\b\b\b\b\b\b\b\b\b\b\b\b\b\r1875/1875 [==============================] - 5s 3ms/step - loss: 1.4749 - accuracy: 0.9863\n",
            "313/313 - 1s - loss: 1.4732 - accuracy: 0.9878\n",
            "\n",
            "Test accuracy: 98.78%\n"
          ],
          "name": "stdout"
        }
      ]
    },
    {
      "cell_type": "markdown",
      "metadata": {
        "id": "LvPE6cfh0JYC"
      },
      "source": [
        "Visualizing the predictions made by the CNN"
      ]
    },
    {
      "cell_type": "code",
      "metadata": {
        "id": "tkOUvBhb0TiU",
        "outputId": "0c3b239d-a2cb-442f-d828-99f28de57f2d",
        "colab": {
          "base_uri": "https://localhost:8080/",
          "height": 369
        }
      },
      "source": [
        "show_predictions(cnn_model.predict(cnn_test_data))"
      ],
      "execution_count": 215,
      "outputs": [
        {
          "output_type": "display_data",
          "data": {
            "image/png": "[encoded data removed]",
            "text/plain": [
              "<Figure size 1152x360 with 14 Axes>"
            ]
          },
          "metadata": {
            "tags": [],
            "needs_background": "light"
          }
        }
      ]
    }
  ]
}